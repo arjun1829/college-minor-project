{
 "cells": [
  {
   "cell_type": "markdown",
   "metadata": {},
   "source": [
    "# Submitted by Arjun Tanpure and Team (email id :- arjuntanpure6@gmail.com)"
   ]
  },
  {
   "cell_type": "code",
   "execution_count": 3,
   "metadata": {
    "id": "cqhQcq_6ndEh",
    "outputId": "44a2f41a-3fd4-40f0-d234-1b9c76badc02"
   },
   "outputs": [
    {
     "name": "stdout",
     "output_type": "stream",
     "text": [
      "Requirement already satisfied: opencv-python in c:\\users\\kiit\\anaconda3\\lib\\site-packages (4.5.1.48)\n",
      "Requirement already satisfied: numpy>=1.17.3 in c:\\users\\kiit\\anaconda3\\lib\\site-packages (from opencv-python) (1.19.2)\n"
     ]
    }
   ],
   "source": [
    "!pip install opencv-python"
   ]
  },
  {
   "cell_type": "code",
   "execution_count": 11,
   "metadata": {
    "id": "HjYLi7gTndEn"
   },
   "outputs": [],
   "source": [
    "import cv2"
   ]
  },
  {
   "cell_type": "code",
   "execution_count": 5,
   "metadata": {},
   "outputs": [
    {
     "name": "stdout",
     "output_type": "stream",
     "text": [
      "Requirement already satisfied: numpy in c:\\users\\kiit\\anaconda3\\lib\\site-packages (1.19.2)\n",
      "Note: you may need to restart the kernel to use updated packages.\n"
     ]
    }
   ],
   "source": [
    "pip install numpy\n"
   ]
  },
  {
   "cell_type": "code",
   "execution_count": 12,
   "metadata": {
    "id": "p4BeY3pPndEn"
   },
   "outputs": [],
   "source": [
    "import numpy as np"
   ]
  },
  {
   "cell_type": "code",
   "execution_count": 7,
   "metadata": {},
   "outputs": [
    {
     "name": "stdout",
     "output_type": "stream",
     "text": [
      "Note: you may need to restart the kernel to use updated packages.\n"
     ]
    },
    {
     "name": "stderr",
     "output_type": "stream",
     "text": [
      "WARNING: Retrying (Retry(total=4, connect=None, read=None, redirect=None, status=None)) after connection broken by 'NewConnectionError('<pip._vendor.urllib3.connection.HTTPSConnection object at 0x0000020B1E55C0D0>: Failed to establish a new connection: [WinError 10051] A socket operation was attempted to an unreachable network')': /simple/tensorflow/\n",
      "WARNING: Retrying (Retry(total=3, connect=None, read=None, redirect=None, status=None)) after connection broken by 'NewConnectionError('<pip._vendor.urllib3.connection.HTTPSConnection object at 0x0000020B1E539F10>: Failed to establish a new connection: [Errno 11001] getaddrinfo failed')': /simple/tensorflow/\n",
      "WARNING: Retrying (Retry(total=2, connect=None, read=None, redirect=None, status=None)) after connection broken by 'NewConnectionError('<pip._vendor.urllib3.connection.HTTPSConnection object at 0x0000020B1E539D90>: Failed to establish a new connection: [Errno 11001] getaddrinfo failed')': /simple/tensorflow/\n",
      "WARNING: Retrying (Retry(total=1, connect=None, read=None, redirect=None, status=None)) after connection broken by 'NewConnectionError('<pip._vendor.urllib3.connection.HTTPSConnection object at 0x0000020B1E539C10>: Failed to establish a new connection: [Errno 11001] getaddrinfo failed')': /simple/tensorflow/\n",
      "WARNING: Retrying (Retry(total=0, connect=None, read=None, redirect=None, status=None)) after connection broken by 'NewConnectionError('<pip._vendor.urllib3.connection.HTTPSConnection object at 0x0000020B1E539AF0>: Failed to establish a new connection: [Errno 11001] getaddrinfo failed')': /simple/tensorflow/\n",
      "ERROR: Could not find a version that satisfies the requirement tensorflow (from versions: none)\n",
      "ERROR: No matching distribution found for tensorflow\n"
     ]
    }
   ],
   "source": [
    "pip install tensorflow"
   ]
  },
  {
   "cell_type": "code",
   "execution_count": 8,
   "metadata": {},
   "outputs": [
    {
     "name": "stdout",
     "output_type": "stream",
     "text": [
      "Note: you may need to restart the kernel to use updated packages.\n"
     ]
    },
    {
     "name": "stderr",
     "output_type": "stream",
     "text": [
      "WARNING: Retrying (Retry(total=4, connect=None, read=None, redirect=None, status=None)) after connection broken by 'NewConnectionError('<pip._vendor.urllib3.connection.HTTPSConnection object at 0x0000013E92C7C130>: Failed to establish a new connection: [WinError 10051] A socket operation was attempted to an unreachable network')': /simple/keras/\n",
      "WARNING: Retrying (Retry(total=3, connect=None, read=None, redirect=None, status=None)) after connection broken by 'NewConnectionError('<pip._vendor.urllib3.connection.HTTPSConnection object at 0x0000013E92C59EE0>: Failed to establish a new connection: [Errno 11001] getaddrinfo failed')': /simple/keras/\n",
      "WARNING: Retrying (Retry(total=2, connect=None, read=None, redirect=None, status=None)) after connection broken by 'NewConnectionError('<pip._vendor.urllib3.connection.HTTPSConnection object at 0x0000013E92C59DC0>: Failed to establish a new connection: [Errno 11001] getaddrinfo failed')': /simple/keras/\n",
      "WARNING: Retrying (Retry(total=1, connect=None, read=None, redirect=None, status=None)) after connection broken by 'NewConnectionError('<pip._vendor.urllib3.connection.HTTPSConnection object at 0x0000013E92C59B80>: Failed to establish a new connection: [Errno 11001] getaddrinfo failed')': /simple/keras/\n",
      "WARNING: Retrying (Retry(total=0, connect=None, read=None, redirect=None, status=None)) after connection broken by 'NewConnectionError('<pip._vendor.urllib3.connection.HTTPSConnection object at 0x0000013E92C59B50>: Failed to establish a new connection: [Errno 11001] getaddrinfo failed')': /simple/keras/\n",
      "ERROR: Could not find a version that satisfies the requirement keras (from versions: none)\n",
      "ERROR: No matching distribution found for keras\n"
     ]
    }
   ],
   "source": [
    "pip install keras"
   ]
  },
  {
   "cell_type": "code",
   "execution_count": 13,
   "metadata": {
    "id": "a3zSaxSTndEo"
   },
   "outputs": [
    {
     "ename": "ModuleNotFoundError",
     "evalue": "No module named 'keras'",
     "output_type": "error",
     "traceback": [
      "\u001b[1;31m---------------------------------------------------------------------------\u001b[0m",
      "\u001b[1;31mModuleNotFoundError\u001b[0m                       Traceback (most recent call last)",
      "\u001b[1;32m<ipython-input-13-afcfd1dba6e4>\u001b[0m in \u001b[0;36m<module>\u001b[1;34m\u001b[0m\n\u001b[1;32m----> 1\u001b[1;33m \u001b[1;32mfrom\u001b[0m \u001b[0mkeras\u001b[0m\u001b[1;33m.\u001b[0m\u001b[0mutils\u001b[0m \u001b[1;32mimport\u001b[0m \u001b[0mnp_utils\u001b[0m\u001b[1;33m\u001b[0m\u001b[1;33m\u001b[0m\u001b[0m\n\u001b[0m",
      "\u001b[1;31mModuleNotFoundError\u001b[0m: No module named 'keras'"
     ]
    }
   ],
   "source": [
    "from keras.utils import np_utils"
   ]
  },
  {
   "cell_type": "code",
   "execution_count": 10,
   "metadata": {},
   "outputs": [
    {
     "name": "stdout",
     "output_type": "stream",
     "text": [
      "Note: you may need to restart the kernel to use updated packages.\n"
     ]
    },
    {
     "name": "stderr",
     "output_type": "stream",
     "text": [
      "WARNING: Retrying (Retry(total=4, connect=None, read=None, redirect=None, status=None)) after connection broken by 'NewConnectionError('<pip._vendor.urllib3.connection.HTTPSConnection object at 0x0000015E530AC0A0>: Failed to establish a new connection: [Errno 11001] getaddrinfo failed')': /simple/os/\n",
      "WARNING: Retrying (Retry(total=3, connect=None, read=None, redirect=None, status=None)) after connection broken by 'NewConnectionError('<pip._vendor.urllib3.connection.HTTPSConnection object at 0x0000015E53089F70>: Failed to establish a new connection: [Errno 11001] getaddrinfo failed')': /simple/os/\n",
      "WARNING: Retrying (Retry(total=2, connect=None, read=None, redirect=None, status=None)) after connection broken by 'NewConnectionError('<pip._vendor.urllib3.connection.HTTPSConnection object at 0x0000015E53089910>: Failed to establish a new connection: [Errno 11001] getaddrinfo failed')': /simple/os/\n",
      "WARNING: Retrying (Retry(total=1, connect=None, read=None, redirect=None, status=None)) after connection broken by 'NewConnectionError('<pip._vendor.urllib3.connection.HTTPSConnection object at 0x0000015E53089CD0>: Failed to establish a new connection: [Errno 11001] getaddrinfo failed')': /simple/os/\n",
      "WARNING: Retrying (Retry(total=0, connect=None, read=None, redirect=None, status=None)) after connection broken by 'NewConnectionError('<pip._vendor.urllib3.connection.HTTPSConnection object at 0x0000015E53089A90>: Failed to establish a new connection: [Errno 11001] getaddrinfo failed')': /simple/os/\n",
      "ERROR: Could not find a version that satisfies the requirement os (from versions: none)\n",
      "ERROR: No matching distribution found for os\n"
     ]
    }
   ],
   "source": [
    "pip install os\n"
   ]
  },
  {
   "cell_type": "code",
   "execution_count": 14,
   "metadata": {
    "id": "bFpZ-qc6ndEo"
   },
   "outputs": [],
   "source": [
    "import os"
   ]
  },
  {
   "cell_type": "code",
   "execution_count": 17,
   "metadata": {
    "id": "qrTx1nCKndEo"
   },
   "outputs": [],
   "source": [
    "data_path='C:/Users/KIIT/Desktop/6th sem/Minor Project 6th sem/dataset-20210214T185604Z-001/dataset'\n"
   ]
  },
  {
   "cell_type": "code",
   "execution_count": 18,
   "metadata": {
    "id": "a9mNCMIwndEp",
    "outputId": "75105ff7-d7b7-4dbf-e08d-e664b7a7b16f"
   },
   "outputs": [
    {
     "ename": "FileNotFoundError",
     "evalue": "[WinError 3] The system cannot find the path specified: 'C:/Users/KIIT/Desktop/6th sem/Minor Project 6th sem/dataset-20210214T185604Z-001/dataset'",
     "output_type": "error",
     "traceback": [
      "\u001b[1;31m---------------------------------------------------------------------------\u001b[0m",
      "\u001b[1;31mFileNotFoundError\u001b[0m                         Traceback (most recent call last)",
      "\u001b[1;32m<ipython-input-18-9193c567b0ce>\u001b[0m in \u001b[0;36m<module>\u001b[1;34m\u001b[0m\n\u001b[1;32m----> 1\u001b[1;33m \u001b[0mcategories\u001b[0m \u001b[1;33m=\u001b[0m \u001b[0mos\u001b[0m\u001b[1;33m.\u001b[0m\u001b[0mlistdir\u001b[0m\u001b[1;33m(\u001b[0m\u001b[0mdata_path\u001b[0m\u001b[1;33m)\u001b[0m\u001b[1;33m\u001b[0m\u001b[1;33m\u001b[0m\u001b[0m\n\u001b[0m\u001b[0;32m      2\u001b[0m \u001b[0mlabels\u001b[0m \u001b[1;33m=\u001b[0m\u001b[1;33m[\u001b[0m\u001b[0mi\u001b[0m \u001b[1;32mfor\u001b[0m \u001b[0mi\u001b[0m \u001b[1;32min\u001b[0m \u001b[0mrange\u001b[0m\u001b[1;33m(\u001b[0m\u001b[0mlen\u001b[0m\u001b[1;33m(\u001b[0m\u001b[0mcategories\u001b[0m\u001b[1;33m)\u001b[0m\u001b[1;33m)\u001b[0m\u001b[1;33m]\u001b[0m\u001b[1;33m\u001b[0m\u001b[1;33m\u001b[0m\u001b[0m\n\u001b[0;32m      3\u001b[0m \u001b[0mlabel_dict\u001b[0m \u001b[1;33m=\u001b[0m\u001b[0mdict\u001b[0m\u001b[1;33m(\u001b[0m\u001b[0mzip\u001b[0m\u001b[1;33m(\u001b[0m\u001b[0mcategories\u001b[0m\u001b[1;33m,\u001b[0m\u001b[0mlabels\u001b[0m\u001b[1;33m)\u001b[0m\u001b[1;33m)\u001b[0m\u001b[1;33m\u001b[0m\u001b[1;33m\u001b[0m\u001b[0m\n\u001b[0;32m      4\u001b[0m \u001b[0mprint\u001b[0m\u001b[1;33m(\u001b[0m\u001b[0mlabel_dict\u001b[0m\u001b[1;33m)\u001b[0m\u001b[1;33m\u001b[0m\u001b[1;33m\u001b[0m\u001b[0m\n\u001b[0;32m      5\u001b[0m \u001b[0mprint\u001b[0m\u001b[1;33m(\u001b[0m\u001b[0mcategories\u001b[0m\u001b[1;33m)\u001b[0m\u001b[1;33m\u001b[0m\u001b[1;33m\u001b[0m\u001b[0m\n",
      "\u001b[1;31mFileNotFoundError\u001b[0m: [WinError 3] The system cannot find the path specified: 'C:/Users/KIIT/Desktop/6th sem/Minor Project 6th sem/dataset-20210214T185604Z-001/dataset'"
     ]
    }
   ],
   "source": [
    "categories = os.listdir(data_path)\n",
    "labels =[i for i in range(len(categories))]\n",
    "label_dict =dict(zip(categories,labels)) \n",
    "print(label_dict)\n",
    "print(categories)\n",
    "print(labels)\n"
   ]
  },
  {
   "cell_type": "code",
   "execution_count": null,
   "metadata": {
    "id": "GF6g1zv0ndEp"
   },
   "outputs": [],
   "source": [
    "img_size=100\n",
    "data=[]\n",
    "target=[]"
   ]
  },
  {
   "cell_type": "code",
   "execution_count": null,
   "metadata": {
    "id": "K7JqjUNZndEp"
   },
   "outputs": [],
   "source": [
    "\n",
    "for category in categories:\n",
    "    folder_path=os.path.join(data_path,category)\n",
    "    img_names=os.listdir(folder_path)\n",
    "        \n",
    "    for img_name in img_names:\n",
    "        img_path=os.path.join(folder_path,img_name)\n",
    "        img=cv2.imread(img_path)\n",
    "        gray=cv2.cvtColor(img,cv2.COLOR_BGR2GRAY)           \n",
    "        resized=cv2.resize(gray,(img_size,img_size))\n",
    "        data.append(resized)\n",
    "        target.append(label_dict[category]) "
   ]
  },
  {
   "cell_type": "code",
   "execution_count": null,
   "metadata": {
    "id": "moSBevfzndEq"
   },
   "outputs": [],
   "source": [
    "data=np.array(data)/255.0\n",
    "data=np.reshape(data,(data.shape[0],img_size,img_size,1))\n",
    "target=np.array(target)\n",
    "new_target=np_utils.to_categorical(target)"
   ]
  },
  {
   "cell_type": "code",
   "execution_count": null,
   "metadata": {
    "id": "ci00GhawndEq"
   },
   "outputs": [],
   "source": [
    "np.save('data',data)\n",
    "np.save('target',new_target)\n"
   ]
  },
  {
   "cell_type": "code",
   "execution_count": null,
   "metadata": {
    "id": "ZTdh6FYxndEq"
   },
   "outputs": [],
   "source": [
    "data=np.load('data.npy')\n",
    "target=np.load('target.npy')"
   ]
  },
  {
   "cell_type": "code",
   "execution_count": null,
   "metadata": {
    "id": "FGr12wRindEq"
   },
   "outputs": [],
   "source": [
    "from keras.models import Sequential\n",
    "from keras.layers import Dense,Activation,Flatten,Dropout\n",
    "from keras.layers import Conv2D,MaxPooling2D\n",
    "from keras.callbacks import ModelCheckpoint"
   ]
  },
  {
   "cell_type": "code",
   "execution_count": null,
   "metadata": {
    "id": "_KYyPDlbndEr"
   },
   "outputs": [],
   "source": [
    "model=Sequential()"
   ]
  },
  {
   "cell_type": "code",
   "execution_count": null,
   "metadata": {
    "id": "FYqMeGhxndEr"
   },
   "outputs": [],
   "source": [
    "model.add(Conv2D(200,(3,3),input_shape=data.shape[1:]))\n",
    "model.add(Activation('relu'))\n",
    "model.add(MaxPooling2D(pool_size=(2,2)))"
   ]
  },
  {
   "cell_type": "code",
   "execution_count": null,
   "metadata": {
    "id": "kHJsqFdAndEr"
   },
   "outputs": [],
   "source": [
    "model.add(Conv2D(100,(3,3)))\n",
    "model.add(Activation('relu'))\n",
    "model.add(MaxPooling2D(pool_size=(2,2)))"
   ]
  },
  {
   "cell_type": "code",
   "execution_count": null,
   "metadata": {
    "id": "5b9_bY9ondEr"
   },
   "outputs": [],
   "source": [
    "model.add(Flatten())\n",
    "model.add(Dropout(0.5))\n",
    "model.add(Dense(50,activation='relu'))\n",
    "model.add(Dense(2,activation='softmax'))"
   ]
  },
  {
   "cell_type": "code",
   "execution_count": null,
   "metadata": {
    "id": "wVwHHVuKndEs"
   },
   "outputs": [],
   "source": [
    "model.compile(loss='categorical_crossentropy',optimizer='adam',metrics=['accuracy'])"
   ]
  },
  {
   "cell_type": "code",
   "execution_count": null,
   "metadata": {
    "id": "_kutY3mEndEs"
   },
   "outputs": [],
   "source": [
    "from sklearn.model_selection import train_test_split\n",
    "train_data,test_data,train_target,test_target=train_test_split(data,target,test_size=0.2)"
   ]
  },
  {
   "cell_type": "code",
   "execution_count": null,
   "metadata": {
    "id": "k4_XBaOQndEs",
    "outputId": "75620dde-54f0-4da8-d8f7-a0b5ffff4924"
   },
   "outputs": [
    {
     "name": "stdout",
     "output_type": "stream",
     "text": [
      "Epoch 1/20\n",
      "28/28 [==============================] - 14s 482ms/step - loss: 0.7679 - accuracy: 0.4982 - val_loss: 0.6499 - val_accuracy: 0.6773\n",
      "INFO:tensorflow:Assets written to: model-001.model\\assets\n",
      "Epoch 2/20\n",
      "28/28 [==============================] - 14s 486ms/step - loss: 0.6218 - accuracy: 0.6385 - val_loss: 0.5451 - val_accuracy: 0.7136\n",
      "INFO:tensorflow:Assets written to: model-002.model\\assets\n",
      "Epoch 3/20\n",
      "28/28 [==============================] - 14s 492ms/step - loss: 0.4451 - accuracy: 0.8012 - val_loss: 0.3811 - val_accuracy: 0.8455\n",
      "INFO:tensorflow:Assets written to: model-003.model\\assets\n",
      "Epoch 4/20\n",
      "28/28 [==============================] - 14s 497ms/step - loss: 0.3093 - accuracy: 0.8750 - val_loss: 0.3283 - val_accuracy: 0.8591\n",
      "INFO:tensorflow:Assets written to: model-004.model\\assets\n",
      "Epoch 5/20\n",
      "28/28 [==============================] - 14s 496ms/step - loss: 0.2129 - accuracy: 0.9170 - val_loss: 0.2528 - val_accuracy: 0.9000\n",
      "INFO:tensorflow:Assets written to: model-005.model\\assets\n",
      "Epoch 6/20\n",
      "28/28 [==============================] - 14s 507ms/step - loss: 0.1291 - accuracy: 0.9553 - val_loss: 0.2126 - val_accuracy: 0.9273\n",
      "INFO:tensorflow:Assets written to: model-006.model\\assets\n",
      "Epoch 7/20\n",
      "28/28 [==============================] - 14s 498ms/step - loss: 0.1050 - accuracy: 0.9675 - val_loss: 0.1741 - val_accuracy: 0.9545\n",
      "INFO:tensorflow:Assets written to: model-007.model\\assets\n",
      "Epoch 8/20\n",
      "28/28 [==============================] - 14s 501ms/step - loss: 0.0792 - accuracy: 0.9782 - val_loss: 0.3407 - val_accuracy: 0.8727\n",
      "Epoch 9/20\n",
      "28/28 [==============================] - 14s 495ms/step - loss: 0.1085 - accuracy: 0.9658 - val_loss: 0.1914 - val_accuracy: 0.9273\n",
      "Epoch 10/20\n",
      "28/28 [==============================] - 14s 507ms/step - loss: 0.0366 - accuracy: 0.9942 - val_loss: 0.2832 - val_accuracy: 0.9273\n",
      "Epoch 11/20\n",
      "28/28 [==============================] - 14s 498ms/step - loss: 0.0390 - accuracy: 0.9894 - val_loss: 0.2065 - val_accuracy: 0.9409\n",
      "Epoch 12/20\n",
      "28/28 [==============================] - 14s 501ms/step - loss: 0.0716 - accuracy: 0.9764 - val_loss: 0.1434 - val_accuracy: 0.9409\n",
      "INFO:tensorflow:Assets written to: model-012.model\\assets\n",
      "Epoch 13/20\n",
      "28/28 [==============================] - 14s 500ms/step - loss: 0.0260 - accuracy: 0.9919 - val_loss: 0.1656 - val_accuracy: 0.9455\n",
      "Epoch 14/20\n",
      "28/28 [==============================] - 14s 516ms/step - loss: 0.0254 - accuracy: 0.9943 - val_loss: 0.1872 - val_accuracy: 0.9364\n",
      "Epoch 15/20\n",
      "28/28 [==============================] - 14s 510ms/step - loss: 0.0167 - accuracy: 0.9953 - val_loss: 0.3463 - val_accuracy: 0.9182\n",
      "Epoch 16/20\n",
      "28/28 [==============================] - 14s 515ms/step - loss: 0.0242 - accuracy: 0.9917 - val_loss: 0.1988 - val_accuracy: 0.9409\n",
      "Epoch 17/20\n",
      "28/28 [==============================] - 14s 512ms/step - loss: 0.0245 - accuracy: 0.9887 - val_loss: 0.2001 - val_accuracy: 0.9318\n",
      "Epoch 18/20\n",
      "28/28 [==============================] - 14s 511ms/step - loss: 0.0228 - accuracy: 0.9880 - val_loss: 0.1981 - val_accuracy: 0.9409\n",
      "Epoch 19/20\n",
      "28/28 [==============================] - 14s 511ms/step - loss: 0.0126 - accuracy: 0.9969 - val_loss: 0.1650 - val_accuracy: 0.9455\n",
      "Epoch 20/20\n",
      "28/28 [==============================] - 14s 509ms/step - loss: 0.0107 - accuracy: 0.9962 - val_loss: 0.1861 - val_accuracy: 0.9545\n"
     ]
    }
   ],
   "source": [
    "checkpoint = ModelCheckpoint('model-{epoch:03d}.model',monitor='val_loss',verbose=0,save_best_only=True,mode='auto')\n",
    "history=model.fit(train_data,train_target,epochs=20,callbacks=[checkpoint],validation_split=0.2)"
   ]
  },
  {
   "cell_type": "code",
   "execution_count": null,
   "metadata": {
    "id": "uA-ztAqRndEs",
    "outputId": "4c697de9-88c5-476b-82b6-61333e590800"
   },
   "outputs": [
    {
     "name": "stdout",
     "output_type": "stream",
     "text": [
      "9/9 [==============================] - 1s 116ms/step - loss: 0.2061 - accuracy: 0.9420\n",
      "[0.2060931771993637, 0.9420289993286133]\n"
     ]
    }
   ],
   "source": [
    "print(model.evaluate(test_data,test_target))"
   ]
  },
  {
   "cell_type": "code",
   "execution_count": null,
   "metadata": {
    "id": "2f9p_v85ndEt"
   },
   "outputs": [],
   "source": [
    "from keras.models import load_model\n",
    "import cv2\n",
    "import numpy as np"
   ]
  },
  {
   "cell_type": "code",
   "execution_count": null,
   "metadata": {
    "id": "Rb6kph23ndEt"
   },
   "outputs": [],
   "source": [
    "\n",
    "model = load_model('model-015.model')\n",
    "\n",
    "face_clsfr=cv2.CascadeClassifier('C:/Users/hp/anaconda3/Lib/site-packages/cv2/data/haarcascade_frontalface_default.xml')\n",
    "\n",
    "source=cv2.VideoCapture(0)\n",
    "\n",
    "labels_dict={1:'MASK',0:'NO MASK'}\n",
    "color_dict={0:(0,0,255),1:(0,255,0)}"
   ]
  },
  {
   "cell_type": "code",
   "execution_count": null,
   "metadata": {
    "id": "HVvVTeLAndEt"
   },
   "outputs": [],
   "source": [
    "while(True):\n",
    "\n",
    "    ret,img=source.read()\n",
    "    gray=cv2.cvtColor(img,cv2.COLOR_BGR2GRAY)\n",
    "    faces=face_clsfr.detectMultiScale(gray,1.3,5)  \n",
    "\n",
    "    for (x,y,w,h) in faces:\n",
    "    \n",
    "        face_img=gray[y:y+w,x:x+w]\n",
    "        resized=cv2.resize(face_img,(100,100))\n",
    "        normalized=resized/255.0\n",
    "        reshaped=np.reshape(normalized,(1,100,100,1))\n",
    "        result=model.predict(reshaped)\n",
    "\n",
    "        label=np.argmax(result,axis=1)[0]\n",
    "      \n",
    "        cv2.rectangle(img,(x,y),(x+w,y+h),color_dict[label],2)\n",
    "        cv2.rectangle(img,(x,y-40),(x+w,y),color_dict[label],-1)\n",
    "        cv2.putText(img, labels_dict[label], (x, y-10),cv2.FONT_HERSHEY_SIMPLEX,0.8,(255,255,255),2)\n",
    "        \n",
    "        \n",
    "    cv2.imshow('LIVE',img)\n",
    "    key=cv2.waitKey(1)\n",
    "    \n",
    "    if(key==27):\n",
    "        break\n",
    "        \n",
    "cv2.destroyAllWindows()\n",
    "source.release()"
   ]
  },
  {
   "cell_type": "code",
   "execution_count": null,
   "metadata": {
    "id": "Tf96DcO5ndEt"
   },
   "outputs": [],
   "source": []
  },
  {
   "cell_type": "code",
   "execution_count": null,
   "metadata": {
    "id": "wq4s_05wndEt"
   },
   "outputs": [],
   "source": []
  }
 ],
 "metadata": {
  "colab": {
   "name": "Final (1).ipynb",
   "provenance": []
  },
  "kernelspec": {
   "display_name": "Python 3",
   "language": "python",
   "name": "python3"
  },
  "language_info": {
   "codemirror_mode": {
    "name": "ipython",
    "version": 3
   },
   "file_extension": ".py",
   "mimetype": "text/x-python",
   "name": "python",
   "nbconvert_exporter": "python",
   "pygments_lexer": "ipython3",
   "version": "3.8.5"
  }
 },
 "nbformat": 4,
 "nbformat_minor": 1
}
